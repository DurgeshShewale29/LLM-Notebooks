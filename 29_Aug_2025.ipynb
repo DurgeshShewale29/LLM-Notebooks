{
  "nbformat": 4,
  "nbformat_minor": 0,
  "metadata": {
    "colab": {
      "provenance": [],
      "authorship_tag": "ABX9TyPm+0TW3yzMSx0rgyZlC3+o",
      "include_colab_link": true
    },
    "kernelspec": {
      "name": "python3",
      "display_name": "Python 3"
    },
    "language_info": {
      "name": "python"
    }
  },
  "cells": [
    {
      "cell_type": "markdown",
      "metadata": {
        "id": "view-in-github",
        "colab_type": "text"
      },
      "source": [
        "<a href=\"https://colab.research.google.com/github/DurgeshShewale29/LLM-Notebooks/blob/main/29_Aug_2025.ipynb\" target=\"_parent\"><img src=\"https://colab.research.google.com/assets/colab-badge.svg\" alt=\"Open In Colab\"/></a>"
      ]
    },
    {
      "cell_type": "code",
      "execution_count": null,
      "metadata": {
        "colab": {
          "base_uri": "https://localhost:8080/"
        },
        "id": "u1UBWTx1LTyO",
        "outputId": "f437a438-4a36-4656-958c-21544c46f323"
      },
      "outputs": [
        {
          "output_type": "stream",
          "name": "stdout",
          "text": [
            "Requirement already satisfied: Cmake in /usr/local/lib/python3.12/dist-packages (3.31.6)\n"
          ]
        }
      ],
      "source": [
        "pip install Cmake"
      ]
    },
    {
      "cell_type": "code",
      "source": [
        "pip install gensim"
      ],
      "metadata": {
        "colab": {
          "base_uri": "https://localhost:8080/"
        },
        "id": "ML2QHjJiX-mQ",
        "outputId": "4704dbfd-7dcb-49c4-a761-4d39ec101090"
      },
      "execution_count": null,
      "outputs": [
        {
          "output_type": "stream",
          "name": "stdout",
          "text": [
            "Requirement already satisfied: gensim in /usr/local/lib/python3.12/dist-packages (4.3.3)\n",
            "Requirement already satisfied: numpy<2.0,>=1.18.5 in /usr/local/lib/python3.12/dist-packages (from gensim) (1.26.4)\n",
            "Requirement already satisfied: scipy<1.14.0,>=1.7.0 in /usr/local/lib/python3.12/dist-packages (from gensim) (1.13.1)\n",
            "Requirement already satisfied: smart-open>=1.8.1 in /usr/local/lib/python3.12/dist-packages (from gensim) (7.3.0.post1)\n",
            "Requirement already satisfied: wrapt in /usr/local/lib/python3.12/dist-packages (from smart-open>=1.8.1->gensim) (1.17.3)\n"
          ]
        }
      ]
    },
    {
      "cell_type": "code",
      "source": [
        "from gensim.models import Word2Vec\n"
      ],
      "metadata": {
        "id": "WMLZHZfcYGJY"
      },
      "execution_count": null,
      "outputs": []
    },
    {
      "cell_type": "code",
      "source": [
        "import numpy as np\n",
        "import matplotlib.pyplot as plt\n",
        "import pandas as pd\n"
      ],
      "metadata": {
        "id": "ItuXXHbjaRkw"
      },
      "execution_count": null,
      "outputs": []
    },
    {
      "cell_type": "code",
      "source": [
        "dataset = pd.read_csv('/content/sample_data/Corona_NLP_test.csv', encoding='latin1')\n"
      ],
      "metadata": {
        "id": "n2WwrfzOal4p"
      },
      "execution_count": null,
      "outputs": []
    },
    {
      "cell_type": "code",
      "source": [
        "import re\n",
        "texts=[]\n",
        "for i in range(0,len(dataset)):\n",
        "  text = re.sub('[^a-zA-Z]' , ' ', dataset['OriginalTweet'][i])\n",
        "  text = text.lower()\n",
        "  text = text.split()\n",
        "  x = len(text) if text.count('https') ==0 else text.index('https')\n",
        "  text = text[: x ]\n",
        "  text = [t for t in text if not t=='https']\n",
        "  text = ' '.join(text)\n",
        "  texts.append(text)\n"
      ],
      "metadata": {
        "id": "XwqqR701aw6I"
      },
      "execution_count": null,
      "outputs": []
    },
    {
      "cell_type": "code",
      "source": [
        "print(len(texts))\n"
      ],
      "metadata": {
        "colab": {
          "base_uri": "https://localhost:8080/"
        },
        "id": "JgqeR_9mbCYJ",
        "outputId": "b0cd9bbf-71b2-4b85-f8ba-cba280145171"
      },
      "execution_count": null,
      "outputs": [
        {
          "output_type": "stream",
          "name": "stdout",
          "text": [
            "3798\n"
          ]
        }
      ]
    },
    {
      "cell_type": "code",
      "source": [
        "sentences = [line.split() for line in texts]\n",
        "\n",
        "w2v =Word2Vec(sentences, vector_size=100, window=5, workers=4, epochs=10, min_count=5)"
      ],
      "metadata": {
        "id": "466pLCIibT88"
      },
      "execution_count": null,
      "outputs": []
    },
    {
      "cell_type": "code",
      "source": [
        "print(sentences[20:25])"
      ],
      "metadata": {
        "colab": {
          "base_uri": "https://localhost:8080/"
        },
        "id": "BMDuBF7Tbm64",
        "outputId": "a1f4f3a7-e5c8-4f49-dbab-220e8d1f086c"
      },
      "execution_count": null,
      "outputs": [
        {
          "output_type": "stream",
          "name": "stdout",
          "text": [
            "[['coronavirus', 'covid', 'people', 'are', 'starting', 'to', 'become', 'frightened', 'and', 'to', 'do', 'panicshopping', 'many', 'shelves', 'meanwhile', 'turn', 'empty', 'as', 'goods', 'are', 'sold', 'facemasks', 'amp', 'disinfection', 'liquid', 'are', 'sold', 'out', 'or', 'they', 'are', 'sold', 'for', 'exorbitant', 'prices', 'blockchain', 'cryptonews'], ['for', 'those', 'of', 'you', 'that', 'think', 'credit', 'debit', 'is', 'just', 'as', 'good', 'as', 'bitcoin', 'when', 'it', 'comes', 'to', 'combating', 'coronavirus', 'keep', 'in', 'mind', 'that', 'this', 'is', 'not', 'a', 'contactless', 'transaction', 'how', 'many', 'people', 'at', 'your', 'grocery', 'store', 'or', 'gas', 'station', 'touch', 'this', 'keypad', 'every', 'day'], ['control', 'over', 'stocks', 'and', 'gold', 'is', 'lost', 'gold', 'coming', 'back', 'very', 'nicely', 'loves', 'wallbridge', 'and', 'balmoral', 'and', 'warns', 'listeners', 'about', 'coronavirus', 'sprott', 'money', 'ltd', 'recently', 'put', 'in', 'money', 'to', 'ocg', 'genm', 'mmg', 'and', 'many', 'more'], ['sellers', 'are', 'cashing', 'on', 'your', 'panic', 'to', 'sell', 'facemasks', 'and', 'sanitizers', 'at', 'super', 'inflated', 'prices', 'in', 'reality', 'neither', 'sanitizer', 'nor', 'facemasks', 'are', 'must', 'have', 'to', 'save', 'yourself', 'from', 'coronavirus', 'please', 'watch', 'this', 'video', 'for', 'more'], ['canada', 's', 'oilpatch', 'is', 'bracing', 'for', 'the', 'impact', 'of', 'plunging', 'crude', 'prices', 'after', 'opec', 'and', 'its', 'allies', 'failed', 'to', 'reach', 'a', 'deal', 'aimed', 'at', 'cutting', 'production', 'as', 'economies', 'slow', 'because', 'of', 'the', 'novel', 'coronavirus', 'the', 'fool', 'jkenney', 'based', 'his', 'budget', 'on', 'hired', 'oil', 'prices']]\n"
          ]
        }
      ]
    },
    {
      "cell_type": "code",
      "source": [
        "words = list(w2v.wv.key_to_index.keys())\n",
        "#word_vocab= list(model.wv.key_to_index.keys())"
      ],
      "metadata": {
        "id": "5nSPnkqObqBt"
      },
      "execution_count": null,
      "outputs": []
    },
    {
      "cell_type": "code",
      "source": [
        "print(words)"
      ],
      "metadata": {
        "colab": {
          "base_uri": "https://localhost:8080/"
        },
        "id": "xmngPQqbb13T",
        "outputId": "d08136da-5c1b-4159-a937-4fd8875f3dc1"
      },
      "execution_count": null,
      "outputs": [
        {
          "output_type": "stream",
          "name": "stdout",
          "text": [
            "['the', 'to', 'covid', 'and', 'of', 'in', 'a', 'i', 'coronavirus', 'food', 'for', 'is', 'you', 'are', 'on', 'store', 'at', 'it', 's', 'this', 'grocery', 't', 'people', 'stock', 'we', 'up', 'that', 'be', 'have', 'all', 'with', 'amp', 'or', 'my', 'not', 'your', 'if', 'can', 'supermarket', 'shopping', 'out', 'panic', 'they', 'online', 'will', 'as', 'no', 'from', 'prices', 'just', 'so', 'but', 'about', 'need', 'toilet', 'paper', 'our', 'what', 'like', 'now', 'get', 'who', 'don', 'more', 'their', 'buying', 'has', 'there', 'do', 'me', 'by', 'was', 'how', 'go', 'going', 'm', 'some', 're', 'please', 'local', 'because', 'us', 'time', 'an', 'home', 'when', 'retail', 'shelves', 'coronaviruspandemic', 'buy', 'everyone', 'stores', 'consumer', 'work', 'today', 'other', 'due', 'over', 'help', 'demand', 'supplies', 'them', 'only', 'been', 'here', 'one', 'down', 'virus', 'these', 'coronaoutbreak', 'during', 'should', 'hand', 'stay', 'than', 'pandemic', 'those', 'water', 'even', 'empty', 'being', 'still', 've', 'coronapocalypse', 'day', 'went', 'would', 'know', 'take', 'think', 'keep', 'see', 'am', 'many', 'make', 'any', 'items', 'good', 'into', 'after', 'panicbuying', 'why', 'corona', 'leave', 'most', 'health', 'also', 'shop', 'stop', 'every', 'weeks', 'week', 'right', 'while', 'let', 'had', 'new', 'delivery', 'll', 'sick', 'working', 'market', 'may', 'way', 'last', 'days', 'were', 'really', 'doing', 'long', 'want', 'world', 'got', 'much', 'sanitizer', 'things', 'well', 'off', 'free', 'etc', 'safe', 'elderly', 'getting', 'oil', 'could', 'few', 'then', 'workers', 'line', 'everything', 'supermarkets', 'spread', 'where', 'supply', 'use', 'before', 'he', 'pasta', 'crisis', 'enough', 'its', 'customers', 'back', 'first', 'employees', 'amazon', 'money', 'lockdown', 'open', 'said', 'business', 'around', 'government', 'too', 'self', 'call', 'hoarding', 'won', 'groceries', 'products', 'two', 'seen', 'roll', 'high', 'next', 'outbreak', 'masks', 'never', 'public', 'social', 'same', 'hours', 'family', 'd', 'thing', 'hands', 'sure', 'come', 'months', 'uk', 'paid', 'full', 'times', 'very', 'she', 'someone', 'news', 'quarantine', 'lot', 'care', 'did', 'schools', 'price', 'anyone', 'goods', 'thank', 'others', 'low', 'live', 'extra', 'big', 'coronavirusupdate', 'tp', 'avoid', 'since', 'crazy', 'check', 'look', 'say', 'find', 'pay', 'through', 'gone', 'needs', 'close', 'having', 'left', 'canned', 'already', 'bought', 'remember', 'u', 'closed', 'without', 'companies', 'stuff', 'ppl', 'support', 'bank', 'able', 'country', 'taking', 'which', 'staff', 'end', 'case', 'available', 'situation', 'thought', 'cleaning', 'made', 'amid', 'each', 'china', 'soap', 'stocking', 'services', 'life', 'y', 'trump', 'until', 'banks', 'coming', 'else', 'order', 'face', 'great', 'school', 'run', 'fear', 'eat', 'folks', 'businesses', 'wash', 'gas', 'donate', 'trying', 'best', 'isn', 'walmart', 'testing', 'risk', 'something', 'travel', 'th', 'coronavirusoutbreak', 'worried', 'month', 'toiletpaper', 'small', 'gonna', 'her', 'w', 'making', 'does', 'global', 'canada', 'normal', 'media', 'march', 'maybe', 'sanitizers', 'important', 'didn', 'place', 'impact', 'his', 'non', 'emergency', 'economy', 'selling', 'increase', 'running', 'give', 'away', 'hit', 'contact', 'yesterday', 'start', 'put', 'retailers', 'yet', 'lines', 'italy', 'cases', 'hard', 'person', 'stocked', 'essentials', 'afford', 'calm', 'hope', 'better', 'morning', 'nothing', 'saw', 'done', 'ever', 'old', 'vulnerable', 'rice', 'share', 'consider', 'less', 'little', 'such', 'must', 'says', 'least', 'house', 'outside', 'instead', 'shoppers', 'closing', 'might', 'thanks', 'list', 'state', 'shit', 'real', 'community', 'americans', 'together', 'c', 'anything', 'shops', 'across', 'almost', 'wipes', 'large', 'year', 'via', 'apple', 'part', 'try', 'kind', 'read', 'markets', 'beans', 'against', 'bad', 'lots', 'shut', 'pm', 'shortage', 'piling', 'night', 'milk', 'doesn', 'city', 'another', 'bread', 'realdonaldtrump', 'forget', 'protect', 'understand', 'continue', 'job', 'places', 'families', 'safety', 'hour', 'probably', 'ask', 'coronavirusupdates', 'sales', 'feel', 'change', 'apocalypse', 'chain', 'basic', 'healthy', 'area', 'x', 'pick', 'starting', 'cause', 'possible', 'update', 'again', 'tonight', 'especially', 'increased', 'told', 'far', 'shortages', 'worth', 'sold', 'essential', 'clean', 'foods', 'sell', 'report', 'drop', 'panicking', 'meat', 'b', 'actually', 'fight', 'cat', 'under', 'costco', 'seeing', 'flu', 'man', 'purchase', 'hey', 'early', 'frozen', 'regular', 'based', 'tell', 'friends', 'dog', 'couple', 'medical', 'years', 'aisle', 'seriously', 'e', 'die', 'haven', 'stockpiling', 'advice', 'looking', 'including', 'front', 'response', 'pharmacy', 'hysteria', 'prevent', 'mass', 'ago', 'tomorrow', 'necessary', 'kids', 'needed', 'distancing', 'insurance', 'mask', 'fears', 'current', 'watch', 'cancelled', 'control', 'dont', 'restaurants', 'cash', 'hygiene', 'events', 'service', 'tested', 'disease', 'protection', 'means', 'ok', 'target', 'whole', 'industry', 'waiting', 'struggling', 'bit', 'healthcare', 'packed', 'system', 'alcohol', 'cannot', 'major', 'friday', 'plenty', 'wait', 'gov', 'hoard', 'isolation', 'remain', 'security', 'love', 'baby', 'concerns', 'personal', 'ready', 'stoppanicbuying', 'helping', 'looks', 'found', 'effect', 'scared', 'older', 'gt', 'quarantined', 'guys', 'tesco', 'america', 'worse', 'chaos', 'using', 'temporarily', 'point', 'aren', 'fast', 'staying', 'seems', 'weekend', 'usual', 'selfish', 'rolls', 'soon', 'video', 'economic', 'everybody', 'email', 'saying', 'friend', 'income', 'pantry', 'wanted', 'gatherings', 'fuck', 'limit', 'n', 'happen', 'half', 'save', 'medicine', 'always', 'coronapocolypse', 'ass', 'nice', 'likely', 'goes', 'president', 'pass', 'eating', 'positive', 'stocks', 'affected', 'prepare', 'panicked', 'usa', 'kill', 'crowds', 'idea', 'expect', 'ahead', 'wouldn', 'pets', 'called', 'consumers', 'access', 'heard', 'thinking', 'provide', 'drive', 'side', 'chains', 'necessities', 'ones', 'crowded', 'clear', 'restaurant', 'entire', 'visit', 'started', 'sense', 'moment', 'confirmed', 'children', 'bulk', 'unemployment', 'ur', 'test', 'advantage', 'tv', 'bill', 'either', 'trip', 'office', 'information', 'cut', 'cost', 'fact', 'announced', 'company', 'gets', 'though', 'card', 'door', 'daily', 'gouging', 'related', 'meals', 'deal', 'bare', 'shows', 'countries', 'per', 'oh', 'post', 'lives', 'despite', 'shelf', 'inside', 'problem', 'mind', 'ridiculous', 'plan', 'except', 'yes', 'tips', 'guess', 'break', 'wrong', 'jobs', 'living', 'once', 'website', 'toiletpaperapocalypse', 'perishable', 'reason', 'light', 'meanwhile', 'imagine', 'customer', 'currently', 'telling', 'lower', 'wine', 'fresh', 'pet', 'comes', 'data', 'info', 'yourself', 'lost', 'sainsburys', 'cart', 'makes', 'allowed', 'reports', 'become', 'infected', 'hell', 'stupid', 'god', 'asked', 'prepared', 'later', 'ireland', 'concerned', 'deliver', 'rise', 'busy', 'pretty', 'mean', 'shipping', 'rather', 'govt', 'behind', 'worst', 'tip', 'follow', 'sent', 'parents', 'communities', 'national', 'poor', 'continues', 'facing', 'literally', 'own', 'pharmacies', 'stockpile', 'mom', 'chinese', 'p', 'product', 'gloves', 'donations', 'distance', 'section', 'measures', 'between', 'shouldn', 'plans', 'shame', 'closures', 'meet', 'issues', 'number', 'american', 'household', 'longer', 'feed', 'panicshopping', 'california', 'april', 'kits', 'coughing', 'credit', 'tax', 'carts', 'chicken', 'insane', 'everywhere', 'bring', 'myself', 'bottled', 'higher', 'stopped', 'spend', 'anxiety', 'rest', 'further', 'phone', 'meds', 'ill', 'group', 'stuck', 'donating', 'experience', 'ability', 'india', 'resources', 'huge', 'worry', 'lysol', 'amount', 'evening', 'ontario', 'lol', 'thousands', 'behavior', 'queue', 'socialdistancing', 'issue', 'common', 'weekly', 'financial', 'survive', 'saturday', 'bekind', 'habits', 'monday', 'usually', 'term', 'ensure', 'limited', 'cure', 'several', 'rush', 'eggs', 'loo', 'single', 'leaving', 'toiletpapercrisis', 'car', 'offer', 'brand', 'kroger', 'debt', 'woman', 'cheap', 'wish', 'ticket', 'show', 'set', 'tests', 'taken', 'chance', 'notice', 'wonder', 'touch', 'happy', 'diet', 'stress', 'both', 'nobody', 'below', 'employee', 'tissue', 'wasn', 'cdc', 'direct', 'fall', 'mad', 'precautions', 'afternoon', 'question', 'orders', 'australia', 'quarantineandchill', 'boost', 'interesting', 'madness', 'causing', 'takes', 'add', 'easy', 'different', 'spreading', 'spreads', 'traffic', 'human', 'towels', 'fighting', 'putting', 'sunday', 'him', 'breaking', 'value', 'past', 'top', 'offering', 'st', 'recession', 'pack', 'couldn', 'losing', 'talking', 'airline', 'aisles', 'talk', 'assistance', 'h', 'dear', 'happening', 'ceo', 'foodbanks', 'damn', 'soup', 'spending', 'pile', 'delivered', 'brands', 'head', 'fully', 'ordered', 'bog', 'plus', 'according', 'created', 'rate', 'used', 'giving', 'bags', 'falling', 'themselves', 'packs', 'pls', 'normally', 'runs', 'smart', 'asking', 'apparently', 'act', 'general', 'seem', 'law', 'opening', 'regarding', 'serious', 'spring', 'worker', 'purchases', 'afraid', 'immune', 'explain', 'relief', 'fill', 'wiped', 'quickly', 'preparing', 'thread', 'forced', 'neighbors', 'rely', 'russia', 'looked', 'funds', 'q', 'medicaid', 'latest', 'fucking', 'profit', 'epidemic', 'finally', 'story', 'season', 'town', 'sad', 'station', 'drink', 'airlines', 'o', 'total', 'confidence', 'turn', 'opportunity', 'sitting', 'psa', 'bitcoin', 'creating', 'caused', 'flight', 'strong', 'raise', 'pickup', 'bc', 'offers', 'unless', 'whatever', 'nation', 'flights', 'guy', 'dad', 'deliveries', 'thoughts', 'emptying', 'buyers', 'uncertainty', 'walk', 'key', 'remote', 'paying', 'immediately', 'sanitiser', 'ecommerce', 'favorite', 'answer', 'ordering', 'seniors', 'states', 'internet', 'learn', 'freaking', 'walking', 'increasing', 'article', 'word', 'play', 'near', 'canceled', 'fridaythe', 'cards', 'tweet', 'checkout', 'took', 'decided', 'absolutely', 'listen', 'coronaviruscanada', 'gift', 'difficult', 'beginning', 'book', 'luck', 'dealing', 'catch', 'future', 'black', 'wipe', 'dm', 'rights', 'providing', 'completely', 'experiencing', 'short', 'queues', 'box', 'spent', 'europe', 'vitamins', 'shutdown', 'fun', 'within', 'step', 'giant', 'survival', 'neighborhood', 'f', 'combat', 'sorry', 'acting', 'options', 'expanded', 'cover', 'bag', 'touching', 'husband', 'wondering', 'scare', 'event', 'hospital', 'dollar', 'tinned', 'members', 'affecting', 'message', 'doctor', 'death', 'london', 'covd', 'confirming', 'missing', 'bet', 'came', 'digital', 'space', 'isolate', 'sale', 'avoiding', 'toiletpaperpanic', 'felt', 'nationalemergency', 'wear', 'trust', 'rates', 'rationing', 'happens', 'sign', 'police', 'quite', 'classes', 'lack', 'note', 'fruit', 'sellers', 'keeps', 'residents', 'toronto', 'population', 'dangerous', 'homes', 'bottles', 'believe', 'r', 'date', 'rising', 'medications', 'wow', 'concern', 'emails', 'exposure', 'ground', 'expected', 'canceleverything', 'surrounding', 'questions', 'carry', 'washing', 'anymore', 'ran', 'earlier', 'wtf', 'whether', 'rent', 'metro', 'charge', 'sports', 'aware', 'reach', 'department', 'co', 'slow', 'hungry', 'prep', 'inflated', 'cream', 'main', 'novel', 'stand', 'interest', 'chill', 'experts', 'citizens', 'works', 'child', 'coronavirususa', 'matter', 'movie', 'meal', 'emptied', 'privilege', 'donation', 'selfisolating', 'however', 'cough', 'air', 'anyway', 'friendly', 'given', 'dropping', 'special', 'move', 'three', 'facebook', 'street', 'asian', 'dry', 'posts', 'grocers', 'lady', 'scary', 'rn', 'ice', 'click', 'send', 'joe', 'expensive', 'spain', 'threat', 'cnn', 'netflix', 'south', 'coronavirusuk', 'cheese', 'games', 'hi', 'wants', 'shutting', 'scenes', 'course', 'exposed', 'shift', 'surge', 'effort', 'suffering', 'reduce', 'unnecessary', 'manila', 'critical', 'lowering', 'fellow', 'im', 'greedy', 'building', 'kinda', 'nuts', 'suspending', 'purchasing', 'begin', 'fed', 'hopefully', 'ways', 'planning', 'fine', 'fake', 'benefits', 'becoming', 'systems', 'society', 'wife', 'students', 'fuel', 'college', 'yo', 'distribution', 'streets', 'none', 'effective', 'massive', 'german', 'drivers', 'handle', 'rt', 'midst', 'dropped', 'action', 'drug', 'result', 'mall', 'butter', 'game', 'thursday', 'idiots', 'transport', 'war', 'growing', 'biggest', 'problems', 'alert', 'woolworths', 'packages', 'nationwide', 'zombie', 'shelter', 'noticed', 'hear', 'neighbours', 'link', 'owners', 'energy', 'activities', 'trolley', 'rich', 'location', 'declared', 'federal', 'papers', 'nyc', 'address', 'package', 'wanna', 'recent', 'worrying', 'contain', 'hospitals', 'additional', 'reached', 'housing', 'k', 'alone', 'surfaces', 'coronavirusireland', 'sa', 'keeping', 'hoarders', 'greater', 'research', 'familiesfirst', 'apocalyptic', 'super', 'patient', 'technology', 'neither', 'totally', 'cashier', 'education', 'humanity', 'inventory', 'crude', 'feels', 'cereal', 'wake', 'medicines', 'includes', 'source', 'panicbuyers', 'standing', 'manufacturers', 'details', 'reminder', 'protecting', 'conditions', 'heart', 'cities', 'perfect', 'restock', 'beef', 'scams', 'impacted', 'beer', 'lately', 'tech', 'affect', 'cos', 'exorbitant', 'towards', 'quick', 'staythefhome', 'grab', 'litter', 'collection', 'highly', 'serve', 'reading', 'books', 'overheard', 'class', 'changing', 'liquid', 'code', 'areas', 'upon', 'wonderful', 'fault', 'fridge', 'nike', 'mostly', 'certain', 'anti', 'driving', 'perishables', 'york', 'joke', 'holiday', 'bills', 'symptoms', 'stories', 'parking', 'late', 'malls', 'practice', 'respond', 'slots', 'shares', 'worldwide', 'feeling', 'committed', 'flour', 'minutes', 'force', 'aus', 'create', 'beyond', 'officials', 'helpful', 'counter', 'misinformation', 'enter', 'horse', 'humans', 'power', 'sensible', 'levels', 'aid', 'yeah', 'spray', 'encouraging', 'remind', 'hardships', 'foxnews', 'bunch', 'age', 'meter', 'behaviour', 'disabled', 'illegal', 'pricegouging', 'vegetables', 'surgical', 'county', 'ride', 'clorox', 'encourage', 'tried', 'updated', 'trader', 'platforms', 'locations', 'luckily', 'deadly', 'bus', 'true', 'physical', 'crashing', 'funny', 'disaster', 'ny', 'suffer', 'affordable', 'spot', 'wiping', 'statement', 'handling', 'knew', 'hike', 'stimulus', 'streaming', 'restrictions', 'la', 'earth', 'showing', 'weird', 'booked', 'wearing', 'okay', 'pictures', 'babies', 'prescription', 'treat', 'hoping', 'priorities', 'coronauk', 'warehouse', 'hr', 'push', 'shoes', 'young', 'french', 'basically', 'trillion', 'contracting', 'asda', 'tickets', 'cancel', 'preparation', 'ton', 'glad', 'trade', 'level', 'name', 'disinfectant', 'panickbuying', 'reduced', 'homeless', 'policy', 'lock', 'witnessed', 'reaction', 'switzerland', 'filled', 'failed', 'driver', 'suspended', 'animals', 'cutting', 'gathering', 'cope', 'hire', 'moving', 'arrived', 'itself', 'coverage', 'crashed', 'killing', 'isle', 'quality', 'recently', 'isolated', 'isolating', 'preparedness', 'handsanitizer', 'sleep', 'gold', 'reducing', 'faster', 'speak', 'waste', 'potus', 'germs', 'kid', 'words', 'screen', 'doctors', 'coffee', 'prime', 'lets', 'picking', 'stayhome', 'nurse', 'mode', 'easily', 'wise', 'ain', 'nearly', 'multiple', 'appreciate', 'choose', 'middle', 'cashiers', 'nurses', 'hundreds', 'updates', 'tho', 'visiting', 'indian', 'playing', 'expert', 'neighbor', 'impacts', 'learning', 'trained', 'headed', 'recommend', 'bleach', 'wegmans', 'authorities', 'coronavirusinkenya', 'climate', 'italia', 'facts', 'uncertain', 'along', 'paycheck', 'seattle', 'insanity', 'administration', 'cans', 'wave', 'washyourhands', 'anxious', 'begun', 'british', 'random', 'appreciated', 'potatoes', 'flipkart', 'policies', 'kitchen', 'pic', 'lending', 'urgent', 'alternative', 'allergies', 'picture', 'return', 'picked', 'effects', 'wage', 'fly', 'environment', 'sauce', 'sites', 'leaves', 'viruses', 'starve', 'ft', 'account', 'gave', 'informal', 'produce', 'sneezing', 'worked', 'cant', 'brought', 'ya', 'saudi', 'north', 'hearing', 'touched', 'men', 'treatment', 'ministry', 'unable', 'onlineshopping', 'otherwise', 'emptyshelves', 'yall', 'period', 'hunger', 'lucky', 'commission', 'doors', 'choice', 'trips', 'international', 'february', 'convenience', 'decision', 'curious', 'dr', 'similar', 'independent', 'hiring', 'deaths', 'medication', 'scene', 'shot', 'activity', 'register', 'fights', 'deserve', 'form', 'calls', 'party', 'numbers', 'hot', 'stayathome', 'tissues', 'amidst', 'among', 'fever', 'cuz', 'partner', 'till', 'snacks', 'doomsday', 'island', 'stateofemergency', 'vegan', 'asap', 'aldi', 'added', 'limiting', 'pro', 'remotely', 'twitter', 'lead', 'disruption', 'g', 'san', 'points', 'pandemonium', 'absolute', 'carrying', 'tuna', 'library', 'pledge', 'flattenthecurve', 'talked', 'canadian', 'heading', 'corner', 'netherlands', 'directly', 'responsible', 'greed', 'tough', 'mo', 'pics', 'cold', 'retweet', 'battle', 'dried', 'coronavirusaustralia', 'gym', 'beautiful', 'nor', 'receive', 'wuhan', 'million', 'millions', 'zero', 'solutions', 'led', 'noodles', 'crash', 'cuts', 'app', 'montreal', 'buys', 'guidelines', 'beat', 'infrastructure', 'ottawa', 'closes', 'brother', 'spare', 'narendramodi', 'brooklyn', 'women', 'knock', 'loading', 'reserve', 'exploiting', 'obvious', 'comedy', 'nearby', 'fees', 'stepped', 'hits', 'stockup', 'screwed', 'type', 'hate', 'peanut', 'garden', 'britain', 'vaccine', 'brexit', 'luxury', 'wells', 'cdcgov', 'permanent', 'whatsapp', 'variety', 'exists', 'budget', 'band', 'germany', 'lineup', 'nd', 'cook', 'impacting', 'commodities', 'somehow', 'soaps', 'urged', 'study', 'hello', 'eye', 'bitch', 'union', 'efforts', 'ukcoronavirus', 'foreseeable', 'alive', 'precaution', 'toiletpaperemergency', 'turns', 'tomatoes', 'example', 'figure', 'premium', 'organizations', 'kenyans', 'gun', 'coughed', 'nz', 'everyday', 'toll', 'shout', 'club', 'stash', 'considering', 'scientists', 'warning', 'settings', 'release', 'five', 'reality', 'sky', 'bless', 'bottle', 'exercise', 'clerks', 'election', 'smh', 'watching', 'representatives', 'enjoy', 'united', 'production', 'student', 'continuing', 'specialist', 'globe', 'purchased', 'pressure', 'evidence', 'manager', 'spirit', 'plane', 'extremely', 'wuhanvirus', 'steal', 'join', 'lose', 'groups', 'boxes', 'listening', 'coughs', 'af', 'decide', 'informed', 'sit', 'solid', 'damage', 'starts', 'reported', 'practices', 'legal', 'posting', 'boomers', 'management', 'gain', 'destroy', 'exchange', 'weight', 'recover', 'decent', 'frontline', 'asia', 'bringing', 'complain', 'ebay', 'l', 'jam', 'charging', 'fish', 'retailer', 'immunity', 'quit', 'replaced', 'bars', 'anticipated', 'sporting', 'restocked', 'piled', 'drinking', 'four', 'frenzy', 'rd', 'em', 'towel', 'spike', 'piece', 'awesome', 'snap', 'caution', 'team', 'petrol', 'omg', 'assholes', 'freeze', 'allow', 'ongoing', 'illness', 'role', 'queuing', 'clearing', 'knows', 'coronaalert', 'msnbc', 'pulled', 'coles', 'piles', 'anticipating', 'bernie', 'potential', 'storage', 'christmas', 'lord', 'pray', 'officially', 'liquor', 'train', 'park', 'insecure', 'bye', 'board', 'hardly', 'holding', 'forward', 'nightmare', 'room', 'weren', 'drugs', 'lunch', 'hasn', 'offered', 'provider', 'following', 'urge', 'heavy', 'ease', 'record', 'flying', 'contracted', 'unfortunately', 'guests', 'trusselltrust', 'bookings', 'growth', 'centre', 'commodity', 'operating', 'item', 'turkey', 'paris', 'eu', 'billion', 'thru', 'basis', 'apartment', 'changes', 'bar', 'press', 'conference', 'respiratory', 'fargo', 'diapers', 'factories', 'operations', 'plz', 'foodbank', 'leading', 'checks', 'focus', 'z', 'commerce', 'benefit', 'crowding', 'entering', 'minds', 'extreme', 'perhaps', 'va', 'crypto', 'yours', 'donated', 'en', 'ocado', 'preppers', 'clients', 'published', 'simple', 'sort', 'fiscal', 'financially', 'taxes', 'craziness', 'genuinely', 'hamsteren', 'loss', 'died', 'desk', 'cheeks', 'chief', 'pounds', 'measure', 'agriculture', 'ohio', 'gotten', 'pop', 'bats', 'upside', 'needing', 'suck', 'regularly', 'eventually', 'cupboards', 'interested', 'freezer', 'priority', 'dogs', 'rapidly', 'warned', 'dinner', 'behaviors', 'stressed', 'helped', 'coronavirusindia', 'centres', 'amazonin', 'publix', 'organization', 'trend', 'reporting', 'mail', 'particularly', 'civil', 'leadership', 'selfisolation', 'junk', 'mama', 'posted', 'idiot', 'letting', 'de', 'rome', 'compared', 'laundry', 'loved', 'stick', 'iran', 'thanksgiving', 'na', 'newyork', 'selfishness', 'volume', 'volunteer', 'mentioned', 'signs', 'expose', 'minister', 'governments', 'urging', 'proud', 'private', 'petition', 'hrs', 'payment', 'norway', 'scenario', 'limits', 'knowledge', 'industries', 'curbside', 'doubt', 'texas', 'welcome', 'disinfect', 'bogus', 'que', 'snack', 'shoutout', 'west', 'domestic', 'aviation', 'body', 'fund', 'bullshit', 'facemask', 'icymi', 'booking', 'gotta', 'twice', 'shoplocal', 'received', 'version', 'manage', 'supporting', 'willing', 'outlets', 'respect', 'danger', 'sainsbury', 'addition', 'dirty', 'sanitisers', 'closure', 'abc', 'skin', 'centers', 'disinfectants', 'corporations', 'necessity', 'pain', 'faces', 'ammo', 'cannabis', 'realize', 'disgusting', 'concerts', 'thursdaythoughts', 'forever', 'although', 'platform', 'ban', 'passed', 'immediate', 'hurting', 'antibacterial', 'nature', 'central', 'barely', 'exclusively', 'morrisons', 'pushing', 'patience', 'hotline', 'attorney', 'fit', 'attention', 'delicious', 'v', 'ten', 'vendors', 'availability', 'msm', 'considerate', 'congress', 'messaging', 'stockmarketcrash', 'vigilant', 'gross', 'snow', 'boredom', 'express', 'stuffs', 'severe', 'rule', 'weather', 'blog', 'honestly', 'rural', 'heavily', 'sells', 'lies', 'compassion', 'mindful', 'mohfw', 'spree', 'stopping', 'addiction', 'situations', 'apart', 'generally', 'las', 'ffs', 'peeps', 'trading', 'ends', 'challenges', 'navigate', 'tbh', 'maga', 'scammers', 'overnight', 'ladies', 'minimize', 'race', 'tiny', 'terrifying', 'ensuring', 'definitely', 'entertainment', 'walked', 'democrats', 'included', 'suddenly', 'confused', 'rethink', 'clearly', 'curb', 'involved', 'silver', 'complete', 'professional', 'viral', 'chicago', 'irony', 'poverty', 'checked', 'plummeting', 'ca', 'gel', 'harm', 'beach', 'photos', 'norm', 'driven', 'horror', 'actual', 'urgency', 'east', 'sector', 'michigan', 'dc', 'belgium', 'obviously', 'taproom', 'dining', 'hotel', 'truly', 'pizza', 'cv', 'personally', 'besides', 'vs', 'sound', 'double', 'shifts', 'rude', 'philippines', 'hoarded', 'react', 'contracts', 'whitehouse', 'braved', 'amazing', 'extended', 'category', 'various', 'feb', 'amounts', 'horrible', 'sharp', 'mess', 'kindness', 'finding', 'center', 'vegetable', 'houses', 'cancellation', 'immunocompromised', 'count', 'terrible', 'ups', 'dallas', 'bonds', 'understanding', 'reportedly', 'jesus', 'crises', 'present', 'hurt', 'pr', 'judging', 'boom', 'pause', 'tin', 'economies', 'israel', 'realise', 'safeway', 'football', 'agenda', 'emergencies', 'nigeria', 'calling', 'hiking', 'outrageous', 'solution', 'university', 'pace', 'mar', 'fallout', 'affairs', 'decline', 'status', 'insists', 'tap', 'balance', 'ending', 'mortar', 'indoors', 'supposed', 'nba', 'fat', 'protein', 'discounts', 'second', 'shifting', 'catching', 'france', 'lockdowns', 'polite']\n"
          ]
        }
      ]
    },
    {
      "cell_type": "code",
      "source": [
        "print(len(words))"
      ],
      "metadata": {
        "colab": {
          "base_uri": "https://localhost:8080/"
        },
        "id": "DBpyYxjvb-O7",
        "outputId": "e75b620c-ed50-44d7-a24e-8d92d2cc6661"
      },
      "execution_count": null,
      "outputs": [
        {
          "output_type": "stream",
          "name": "stdout",
          "text": [
            "2290\n"
          ]
        }
      ]
    },
    {
      "cell_type": "code",
      "source": [
        "print(w2v.wv['covid'])\n",
        "#print( w2v.wv.key_to_index.keys['computer'] )"
      ],
      "metadata": {
        "colab": {
          "base_uri": "https://localhost:8080/"
        },
        "id": "eUgxYTaUcBQB",
        "outputId": "33ccd957-d83b-4551-92f3-61d28c5e85c0"
      },
      "execution_count": null,
      "outputs": [
        {
          "output_type": "stream",
          "name": "stdout",
          "text": [
            "[-0.74003655  0.47617814 -0.02044105  0.28321132  0.32100576 -0.1568409\n",
            " -0.0079563   0.4242457  -1.1252669  -0.24416697 -0.0664243  -0.6618718\n",
            "  0.6612567  -0.05099499 -0.00521494 -0.59885514 -0.02321344 -0.25863355\n",
            " -0.45369583 -0.6856378   0.22782862 -0.57246745  0.09112149 -0.7233751\n",
            "  0.23820901  0.03362008  0.20992647 -0.26591825 -0.7606553  -0.26555145\n",
            "  0.43339452 -0.26552373 -0.24444623 -0.0026144  -0.33319882  0.48116317\n",
            "  0.11674304  0.19429313 -0.07050239 -0.91024065 -0.4501094   0.24689151\n",
            " -0.41054153  0.16701573  0.476016    0.44065416 -0.01530732  0.55956566\n",
            " -0.00349796  0.00201693 -0.11565471 -0.05685963 -0.21165967 -0.48138034\n",
            " -0.11202834 -0.4987562  -0.39521247 -0.49005833 -0.48683444  0.01626443\n",
            "  0.01198133 -0.38951308  0.32217205 -0.36847168 -0.7218162  -0.2286441\n",
            " -0.15508018  0.35845098 -0.72168565  0.58600515 -0.12529962  1.0104339\n",
            "  0.62689817  0.3796991   0.08344549  0.35331318  0.3927057  -0.04654398\n",
            " -0.50248533  0.05106365  0.03738616  0.01918742 -0.36882693  0.01254698\n",
            "  0.44598117 -0.7278497   0.12677228 -0.03037026  0.04240248  0.41503182\n",
            "  0.12515457  0.8910973   0.5376808   0.49479514  1.0627209   0.80789125\n",
            "  0.06599641 -0.11823189  0.7004708  -0.25437105]\n"
          ]
        }
      ]
    },
    {
      "cell_type": "code",
      "source": [
        "w2v.wv.similarity('food', 'store')"
      ],
      "metadata": {
        "colab": {
          "base_uri": "https://localhost:8080/"
        },
        "id": "2NRkWCHbcHIj",
        "outputId": "2ec92cdb-a27a-4530-aa68-4f3de4de3164"
      },
      "execution_count": null,
      "outputs": [
        {
          "output_type": "execute_result",
          "data": {
            "text/plain": [
              "0.019249039"
            ]
          },
          "metadata": {},
          "execution_count": 75
        }
      ]
    },
    {
      "cell_type": "code",
      "source": [
        "w2v.wv.similarity('india', 'america')"
      ],
      "metadata": {
        "colab": {
          "base_uri": "https://localhost:8080/"
        },
        "id": "LUP2Ds48c43o",
        "outputId": "1b92b80b-c394-438c-f6cd-0f252cd9aa74"
      },
      "execution_count": null,
      "outputs": [
        {
          "output_type": "execute_result",
          "data": {
            "text/plain": [
              "0.99347943"
            ]
          },
          "metadata": {},
          "execution_count": 76
        }
      ]
    },
    {
      "cell_type": "code",
      "source": [
        "print(w2v.wv.most_similar('pay'))"
      ],
      "metadata": {
        "colab": {
          "base_uri": "https://localhost:8080/"
        },
        "id": "uCJ70PARdpVd",
        "outputId": "5cb565c5-b0c6-4edb-e77d-7641be4d2207"
      },
      "execution_count": null,
      "outputs": [
        {
          "output_type": "stream",
          "name": "stdout",
          "text": [
            "[('isolate', 0.979166567325592), ('decide', 0.9777235984802246), ('happen', 0.9759438037872314), ('welcome', 0.9744641184806824), ('okay', 0.9715532064437866), ('also', 0.9715232849121094), ('isolated', 0.971000611782074), ('handle', 0.9695146083831787), ('delivered', 0.9664224982261658), ('ensure', 0.9657863974571228)]\n"
          ]
        }
      ]
    },
    {
      "cell_type": "code",
      "source": [
        "print(w2v.wv.most_similar('covid'))"
      ],
      "metadata": {
        "colab": {
          "base_uri": "https://localhost:8080/"
        },
        "id": "CBm8VGVzdtEM",
        "outputId": "437bff9d-71a2-4888-c857-2586d0d78573"
      },
      "execution_count": null,
      "outputs": [
        {
          "output_type": "stream",
          "name": "stdout",
          "text": [
            "[('coronaoutbreak', 0.9596977829933167), ('coronaviruspandemic', 0.9564417004585266), ('panicbuying', 0.9413841366767883), ('corona', 0.9403751492500305), ('coronapocalypse', 0.9402917623519897), ('coronavirus', 0.938761830329895), ('coronavirusupdate', 0.9294931888580322), ('coronavirusupdates', 0.8919436931610107), ('quarantineandchill', 0.8891175985336304), ('pandemic', 0.8879772424697876)]\n"
          ]
        }
      ]
    },
    {
      "cell_type": "code",
      "source": [
        "print(w2v.wv.most_similar('india'))"
      ],
      "metadata": {
        "colab": {
          "base_uri": "https://localhost:8080/"
        },
        "id": "lHZD33jYdurN",
        "outputId": "6c18841c-c108-43d4-8a54-be3d5948e035"
      },
      "execution_count": null,
      "outputs": [
        {
          "output_type": "stream",
          "name": "stdout",
          "text": [
            "[('update', 0.9943997263908386), ('america', 0.993479311466217), ('loss', 0.9934245944023132), ('death', 0.9925540685653687), ('coronavirusindia', 0.9923005700111389), ('below', 0.9922505021095276), ('suspending', 0.992249071598053), ('address', 0.9920889139175415), ('ecommerce', 0.9919540882110596), ('infrastructure', 0.9914661645889282)]\n"
          ]
        }
      ]
    },
    {
      "cell_type": "code",
      "source": [
        "w2v.wv.doesnt_match(['grocery', 'covid', 'coronavirus'])"
      ],
      "metadata": {
        "colab": {
          "base_uri": "https://localhost:8080/",
          "height": 35
        },
        "id": "UOBeHt0zdzSs",
        "outputId": "2a4b289d-60d5-435f-ea8e-b1f8efcca7ab"
      },
      "execution_count": null,
      "outputs": [
        {
          "output_type": "execute_result",
          "data": {
            "text/plain": [
              "'grocery'"
            ],
            "application/vnd.google.colaboratory.intrinsic+json": {
              "type": "string"
            }
          },
          "metadata": {},
          "execution_count": 80
        }
      ]
    }
  ]
}