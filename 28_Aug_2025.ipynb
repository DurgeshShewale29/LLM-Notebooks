{
  "nbformat": 4,
  "nbformat_minor": 0,
  "metadata": {
    "colab": {
      "provenance": [],
      "authorship_tag": "ABX9TyN3BKQDUdnYssfvc5XK4DEL",
      "include_colab_link": true
    },
    "kernelspec": {
      "name": "python3",
      "display_name": "Python 3"
    },
    "language_info": {
      "name": "python"
    }
  },
  "cells": [
    {
      "cell_type": "markdown",
      "metadata": {
        "id": "view-in-github",
        "colab_type": "text"
      },
      "source": [
        "<a href=\"https://colab.research.google.com/github/DurgeshShewale29/LLM-Notebooks/blob/main/28_Aug_2025.ipynb\" target=\"_parent\"><img src=\"https://colab.research.google.com/assets/colab-badge.svg\" alt=\"Open In Colab\"/></a>"
      ]
    },
    {
      "cell_type": "code",
      "execution_count": null,
      "metadata": {
        "id": "hHezL7M0N3KQ",
        "colab": {
          "base_uri": "https://localhost:8080/"
        },
        "outputId": "4f048283-1e05-42ae-8155-cdc2cc11193d"
      },
      "outputs": [
        {
          "output_type": "stream",
          "name": "stdout",
          "text": [
            "['An', 'application', 'programming', 'interface', '(API)', 'is', 'a', 'connection', 'between', 'computers', 'or', 'between', 'computer', 'programs.', 'It', 'is', 'a', 'type', 'of', 'software', 'interface,', 'offering', 'a', 'service', 'to', 'other', 'pieces', 'of', 'software.[1]', 'A', 'document', 'or', 'standard', 'that', 'describes', 'how', 'to', 'build', 'such', 'a', 'connection', 'or', 'interface', 'is', 'called', 'an', 'API', 'specification.', 'A', 'computer', 'system', 'that', 'meets', 'this', 'standard', 'is', 'said', 'to', 'implement', 'or', 'expose', 'an', 'API.', 'The', 'term', 'API', 'may', 'refer', 'either', 'to', 'the', 'specification', 'or', 'to', 'the', 'implementation.', 'In', 'contrast', 'to', 'a', 'user', 'interface,', 'which', 'connects', 'a', 'computer', 'to', 'a', 'person,', 'an', 'application', 'programming', 'interface', 'connects', 'computers', 'or', 'pieces', 'of', 'software', 'to', 'each', 'other.', 'It', 'is', 'not', 'intended', 'to', 'be', 'used', 'directly', 'by', 'a', 'person', '(the', 'end', 'user)', 'other', 'than', 'a', 'computer', 'programmer[1]', 'who', 'is', 'incorporating', 'it', 'into', 'software.', 'An', 'API', 'is', 'often', 'made', 'up', 'of', 'different', 'parts', 'which', 'act', 'as', 'tools', 'or', 'services', 'that', 'are', 'available', 'to', 'the', 'programmer.', 'A', 'program', 'or', 'a', 'programmer', 'that', 'uses', 'one', 'of', 'these', 'parts', 'is', 'said', 'to', 'call', 'that', 'portion', 'of', 'the', 'API.', 'The', 'calls', 'that', 'make', 'up', 'the', 'API', 'are', 'also', 'known', 'as', 'subroutines,', 'methods,', 'requests,', 'or', 'endpoints.', 'An', 'API', 'specification', 'defines', 'these', 'calls,', 'meaning', 'that', 'it', 'explains', 'how', 'to', 'use', 'or', 'implement', 'them.']\n",
            "Total word count : 200\n"
          ]
        }
      ],
      "source": [
        "with open(\"/content/try.txt\", \"r\") as f:\n",
        "    text = f.read()\n",
        "tokens = text.split()\n",
        "print(tokens)\n",
        "print(\"Total word count :\", len(tokens))"
      ]
    },
    {
      "cell_type": "code",
      "source": [
        "!pip install python-docx\n",
        "\n",
        "from docx import Document\n",
        "\n",
        "doc = Document(\"/content/Assignment1.docx\")\n",
        "\n",
        "text = \" \".join([para.text for para in doc.paragraphs])\n",
        "\n",
        "tokens = text.split()\n",
        "print(tokens)\n",
        "print(\"Total word count:\", len(tokens))\n"
      ],
      "metadata": {
        "id": "qFJJPV5jWOQ3",
        "outputId": "39515c64-e7f5-4adc-ac9d-772f6c9a679f",
        "colab": {
          "base_uri": "https://localhost:8080/"
        }
      },
      "execution_count": null,
      "outputs": [
        {
          "output_type": "stream",
          "name": "stdout",
          "text": [
            "Requirement already satisfied: python-docx in /usr/local/lib/python3.12/dist-packages (1.2.0)\n",
            "Requirement already satisfied: lxml>=3.1.0 in /usr/local/lib/python3.12/dist-packages (from python-docx) (5.4.0)\n",
            "Requirement already satisfied: typing_extensions>=4.9.0 in /usr/local/lib/python3.12/dist-packages (from python-docx) (4.15.0)\n",
            "['Assignment1', 'Code:', '#!/bin/sh', '#echo', '\"my', 'first', 'shell', 'program\"', 'create()', '{', 'echo', '\"Enter', 'Address', 'book', 'name:\"', 'read', 'ab', '#check', 'if', 'address', 'book', 'is', 'already', 'exists', 'res=`ls', '|', 'grep', '$ab', '|', 'wc', '-w`', 'if', '[', '$res', '-gt', '0', ']', 'then', 'echo', '\"File', 'is', 'already', 'exists\"', 'else', 'touch', '$ab', 'echo', '\"File', 'created\"', 'fi', '};', 'display()', '{', 'echo', '\"Enter', 'your', 'file', 'name:\"', 'read', 'file', 'res=`ls', '|', 'grep', '$file', '|', 'wc', '-w`', 'if', '[', '$res', '-gt', '0', ']', 'then', 'echo', '\"Address', 'Book', 'Contents:\"', 'cat', '$file', 'else', 'echo', '\"File', 'does', 'not', 'exists.\"', 'fi', '};', 'insert()', '{', 'echo', '\"Enter', 'your', 'file', 'name:\"', 'read', 'file', 'res=`ls', '|', 'grep', '$file', '|', 'wc', '-w`', 'if', '[', '$res', '-gt', '0', ']', 'then', 'echo', '\"Enter', 'Email:\"', 'read', 'email', 'len=`cat', '$file', '|', 'grep', '$email', '|', 'wc', '-w`', 'if', '[', '$len', '-gt', '0', ']', 'then', 'echo', '\"Email', 'id', 'already', 'exists\"', 'else', 'echo', '\"Enter', 'Name:\"', 'read', 'name', 'echo', '\"Enter', 'Phone:\"', 'read', 'phone', 'echo', '\"$name', '|', '$phone', '|', '$email\"', '>>', '$file', 'echo', '\"Entry', 'added', 'successfully!\"', 'fi', 'else', 'echo', '\"File', 'does', 'not', 'exists!\"', 'fi', '};', 'while', '[', 'true', ']', 'do', 'echo', '\"*********Menu********\"', 'echo', '\"1.Create\"', 'echo', '\"2.Display\"', 'echo', '\"3.Insert\"', 'echo', '\"4.Modify\"', 'echo', '\"5.Exit\"', 'echo', '\"Enter', 'your', 'choice:\"', 'read', 'choice', 'case', '$choice', 'in', '1)', 'create;', '2)', 'display;', '3)', 'insert;', '4)', 'modify;', '5)', 'exit;', 'esac', 'done', 'Output:', '*********Menu********', '1.Create', '2.Display', '3.Insert', '4.Modify', '5.Exit', 'Enter', 'your', 'choice:', '1', 'Enter', 'Address', 'book', 'name:', 'contacts.txt', 'File', 'created', '*********Menu********', '1.Create', '2.Display', '3.Insert', '4.Modify', '5.Exit', 'Enter', 'your', 'choice:', '3', 'Enter', 'your', 'file', 'name:', 'contacts.txt', 'Enter', 'Email:', 'john@example.com', 'Enter', 'Name:', 'John', 'Doe', 'Enter', 'Phone:', '9876543210', 'Entry', 'added', 'successfully!', '*********Menu********', '1.Create', '2.Display', '3.Insert', '4.Modify', '5.Exit', 'Enter', 'your', 'choice:', '2', 'Enter', 'your', 'file', 'name:', 'contacts.txt', 'Address', 'Book', 'Contents:', 'John', 'Doe', '|', '9876543210', '|', 'john@example.com', '*********Menu********', '1.Create', '2.Display', '3.Insert', '4.Modify', '5.Exit', 'Enter', 'your', 'choice:', '3', 'Enter', 'your', 'file', 'name:', 'contacts.txt', 'Enter', 'Email:', 'john@example.com', 'Email', 'id', 'already', 'exists', '*********Menu********', '1.Create', '2.Display', '3.Insert', '4.Modify', '5.Exit', 'Enter', 'your', 'choice:', '5']\n",
            "Total word count: 308\n"
          ]
        }
      ]
    },
    {
      "cell_type": "code",
      "source": [
        "corpus = [\n",
        "\"This is the first document \",\n",
        "\"This document is the second document.\",\n",
        "\"And this is the third one.\",\n",
        "\"Is this the first document?\",\n",
        "]\n",
        "all_text = \" \".join(corpus)\n",
        "\n",
        "unique_chars = set(all_text)\n",
        "\n",
        "print(\"Unique characters in the whole corpus:\", unique_chars)\n",
        "print(\"Total unique characters =\", len(unique_chars))"
      ],
      "metadata": {
        "colab": {
          "base_uri": "https://localhost:8080/"
        },
        "id": "pAmuXBNcE6hM",
        "outputId": "29c2e45b-45a5-4706-cc88-83174fe1769c"
      },
      "execution_count": null,
      "outputs": [
        {
          "output_type": "stream",
          "name": "stdout",
          "text": [
            "Unique characters in the whole corpus: {'I', 'r', '?', 'e', 'i', 'T', ' ', 'o', 'c', 'n', 's', 'u', 't', 'A', 'h', '.', 'd', 'm', 'f'}\n",
            "Total unique characters = 19\n"
          ]
        }
      ]
    },
    {
      "cell_type": "code",
      "source": [
        "unique_chars = set()\n",
        "for doc in corpus:\n",
        "  for char in doc:\n",
        "    unique_chars.add(char)\n",
        "\n",
        "\n",
        "print(unique_chars)"
      ],
      "metadata": {
        "colab": {
          "base_uri": "https://localhost:8080/"
        },
        "id": "cJWXxqIqFfbM",
        "outputId": "73dedea6-a356-4baa-b265-1c5fb794097e"
      },
      "execution_count": null,
      "outputs": [
        {
          "output_type": "stream",
          "name": "stdout",
          "text": [
            "{'I', 'r', '?', 'e', 'i', 'T', ' ', 'o', 'c', 'n', 's', 'u', 't', 'A', 'h', '.', 'd', 'm', 'f'}\n"
          ]
        }
      ]
    },
    {
      "cell_type": "code",
      "source": [
        "vocab = list(unique_chars)\n",
        "vocab.sort()\n",
        "print(vocab)"
      ],
      "metadata": {
        "colab": {
          "base_uri": "https://localhost:8080/"
        },
        "id": "z3nVC71YH6qj",
        "outputId": "513a088d-3d0f-4a6e-b3d8-bf11602b0101"
      },
      "execution_count": null,
      "outputs": [
        {
          "output_type": "stream",
          "name": "stdout",
          "text": [
            "[' ', '.', '?', 'A', 'I', 'T', 'c', 'd', 'e', 'f', 'h', 'i', 'm', 'n', 'o', 'r', 's', 't', 'u']\n"
          ]
        }
      ]
    },
    {
      "cell_type": "code",
      "source": [
        "end_of_word = '/<w>'\n",
        "vocab.append(end_of_word)\n",
        "print('Initial Vocabulary:')\n",
        "print(vocab)\n",
        "print(f'size: {len(vocab)}')"
      ],
      "metadata": {
        "colab": {
          "base_uri": "https://localhost:8080/"
        },
        "id": "plgWosgIIFmz",
        "outputId": "28ea5992-87a9-4d4d-a8ae-ae15a674bc71"
      },
      "execution_count": null,
      "outputs": [
        {
          "output_type": "stream",
          "name": "stdout",
          "text": [
            "Initial Vocabulary:\n",
            "[' ', '.', '?', 'A', 'I', 'T', 'c', 'd', 'e', 'f', 'h', 'i', 'm', 'n', 'o', 'r', 's', 't', 'u', '/<w>']\n",
            "size: 20\n"
          ]
        }
      ]
    },
    {
      "cell_type": "code",
      "source": [
        "word_splits = {}\n",
        "for doc in corpus:\n",
        "  # splitting by ' ' character\n",
        "  words = doc.split(' ')\n",
        "\n",
        "  for word in words:\n",
        "    char_list = list(word) + [end_of_word] # convert words into list and append the char\n",
        "    # convert to list because we will need an immutable object to act as a key in the dictionary\n",
        "    word_tuple = tuple(char_list)\n",
        "\n",
        "    if word_tuple not in word_splits:\n",
        "      word_splits[word_tuple] = 0\n",
        "    word_splits[word_tuple] += 1 # incrememnting count for each word when found\n",
        "\n",
        "print('\\nThe final dictionary with word count:')\n",
        "print(word_splits)"
      ],
      "metadata": {
        "colab": {
          "base_uri": "https://localhost:8080/"
        },
        "id": "W4OKasiuJnIX",
        "outputId": "93af78df-d153-4751-fb7a-bf8112da8048"
      },
      "execution_count": null,
      "outputs": [
        {
          "output_type": "stream",
          "name": "stdout",
          "text": [
            "\n",
            "The final dictionary with word count:\n",
            "{('T', 'h', 'i', 's', '/<w>'): 2, ('i', 's', '/<w>'): 3, ('t', 'h', 'e', '/<w>'): 4, ('f', 'i', 'r', 's', 't', '/<w>'): 2, ('d', 'o', 'c', 'u', 'm', 'e', 'n', 't', '/<w>'): 2, ('/<w>',): 1, ('s', 'e', 'c', 'o', 'n', 'd', '/<w>'): 1, ('d', 'o', 'c', 'u', 'm', 'e', 'n', 't', '.', '/<w>'): 1, ('A', 'n', 'd', '/<w>'): 1, ('t', 'h', 'i', 's', '/<w>'): 2, ('t', 'h', 'i', 'r', 'd', '/<w>'): 1, ('o', 'n', 'e', '.', '/<w>'): 1, ('I', 's', '/<w>'): 1, ('d', 'o', 'c', 'u', 'm', 'e', 'n', 't', '?', '/<w>'): 1}\n"
          ]
        }
      ]
    },
    {
      "cell_type": "code",
      "source": [
        "import collections\n",
        "def get_pair_stats(splits):\n",
        "  # A collection's dictionary will create a new key if it already doesn't exist in the dictionary.\n",
        "  pair_counts = collections.defaultdict(int) #defaultdict will have default values of 0\n",
        "\n",
        "  for word_tuple, freq in splits.items():\n",
        "    symbols = list(word_tuple) # converting tuple to list\n",
        "\n",
        "    for i in range(len(symbols)-1): # iterating through each element in the word\n",
        "      pair = (symbols[i], symbols[i+1]) # pairing chars with the next char\n",
        "      pair_counts[pair] += freq # addin the frequency of the word\n",
        "\n",
        "  return pair_counts\n",
        "\n",
        "pair_counts_dict = get_pair_stats(word_splits)\n",
        "print(pair_counts_dict)"
      ],
      "metadata": {
        "colab": {
          "base_uri": "https://localhost:8080/"
        },
        "id": "uD9HYQ1rKjlB",
        "outputId": "340ad010-a64f-4212-8e52-60f5afb9ed07"
      },
      "execution_count": null,
      "outputs": [
        {
          "output_type": "stream",
          "name": "stdout",
          "text": [
            "defaultdict(<class 'int'>, {('T', 'h'): 2, ('h', 'i'): 5, ('i', 's'): 7, ('s', '/<w>'): 8, ('t', 'h'): 7, ('h', 'e'): 4, ('e', '/<w>'): 4, ('f', 'i'): 2, ('i', 'r'): 3, ('r', 's'): 2, ('s', 't'): 2, ('t', '/<w>'): 4, ('d', 'o'): 4, ('o', 'c'): 4, ('c', 'u'): 4, ('u', 'm'): 4, ('m', 'e'): 4, ('e', 'n'): 4, ('n', 't'): 4, ('s', 'e'): 1, ('e', 'c'): 1, ('c', 'o'): 1, ('o', 'n'): 2, ('n', 'd'): 2, ('d', '/<w>'): 3, ('t', '.'): 1, ('.', '/<w>'): 2, ('A', 'n'): 1, ('r', 'd'): 1, ('n', 'e'): 1, ('e', '.'): 1, ('I', 's'): 1, ('t', '?'): 1, ('?', '/<w>'): 1})\n"
          ]
        }
      ]
    },
    {
      "cell_type": "code",
      "source": [
        "def merge_pair(pair_to_merge, splits):\n",
        "  new_splits = {}\n",
        "  (first_char, second_char) = pair_to_merge\n",
        "  merged_token = first_char + second_char\n",
        "\n",
        "  for word_tuple, freq in splits.items():\n",
        "    symbols = list(word_tuple)\n",
        "    new_symbols = []\n",
        "\n",
        "    i=0\n",
        "    while i < len(symbols):\n",
        "      if i < len(symbols) - 1 and symbols[i] == first_char and symbols[i+1] == second_char:\n",
        "        new_symbols.append(merged_token)\n",
        "        i+=2 # to skip to the next symbol\n",
        "      else:\n",
        "        new_symbols.append(symbols[i])\n",
        "        i+=1\n",
        "\n",
        "    new_splits[tuple(new_symbols)] = freq\n",
        "  return new_splits\n",
        "\n",
        "merge_pair(('i','s'), pair_counts_dict)\n",
        "\n",
        "current_splits = word_splits.copy()\n",
        "print('Starting BPE Merges')\n",
        "print(f'Initial Splits{current_splits}')\n",
        "print('-'*30)"
      ],
      "metadata": {
        "colab": {
          "base_uri": "https://localhost:8080/"
        },
        "id": "9vsb4vtvK5c6",
        "outputId": "7f21049d-54fa-47ed-9071-12a98c8833c6"
      },
      "execution_count": null,
      "outputs": [
        {
          "output_type": "stream",
          "name": "stdout",
          "text": [
            "Starting BPE Merges\n",
            "Initial Splits{('T', 'h', 'i', 's', '/<w>'): 2, ('i', 's', '/<w>'): 3, ('t', 'h', 'e', '/<w>'): 4, ('f', 'i', 'r', 's', 't', '/<w>'): 2, ('d', 'o', 'c', 'u', 'm', 'e', 'n', 't', '/<w>'): 2, ('/<w>',): 1, ('s', 'e', 'c', 'o', 'n', 'd', '/<w>'): 1, ('d', 'o', 'c', 'u', 'm', 'e', 'n', 't', '.', '/<w>'): 1, ('A', 'n', 'd', '/<w>'): 1, ('t', 'h', 'i', 's', '/<w>'): 2, ('t', 'h', 'i', 'r', 'd', '/<w>'): 1, ('o', 'n', 'e', '.', '/<w>'): 1, ('I', 's', '/<w>'): 1, ('d', 'o', 'c', 'u', 'm', 'e', 'n', 't', '?', '/<w>'): 1}\n",
            "------------------------------\n"
          ]
        }
      ]
    }
  ]
}